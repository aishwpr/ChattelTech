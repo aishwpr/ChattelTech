{
 "cells": [
  {
   "cell_type": "code",
   "execution_count": 5,
   "metadata": {},
   "outputs": [],
   "source": [
    "\n",
    "import os\n",
    "import coloredlogs\n",
    "import yfinance as yf\n",
    "from docopt import docopt\n",
    "import time\n",
    "from trading_bot.agent import Agent\n",
    "from trading_bot.methods import evaluate_model\n",
    "from trading_bot.utils import (\n",
    "    get_stock_data,\n",
    "    format_currency,\n",
    "    format_position,\n",
    "    show_eval_result,\n",
    "    switch_k_backend_device\n",
    ")\n",
    "\n",
    "\n"
   ]
  },
  {
   "cell_type": "code",
   "execution_count": 6,
   "metadata": {},
   "outputs": [],
   "source": [
    "def main(eval_stock, window_size, model_name, debug):\n",
    "    \"\"\" Evaluates the stock trading bot.\n",
    "    Please see https://arxiv.org/abs/1312.5602 for more details.\n",
    "    Args: [python eval.py --help]\n",
    "    \"\"\"    \n",
    "    data = get_stock_data(eval_stock)\n",
    "    initial_offset = data[1] - data[0]\n",
    "#    print(data)\n",
    "#    print(initial_offset)\n",
    "#    time.sleep(20)\n",
    "    # Single Model Evaluation\n",
    "    if model_name is not None:\n",
    "        agent = Agent(window_size, pretrained=True, model_name=model_name)\n",
    "        profit, _ = evaluate_model(agent, data, window_size, debug)\n",
    "        show_eval_result(model_name, profit, initial_offset)\n",
    "        \n",
    "    # Multiple Model Evaluation\n",
    "    else:\n",
    "        for model in os.listdir(\"models\"):\n",
    "            if os.path.isfile(os.path.join(\"models\", model)):\n",
    "                agent = Agent(window_size, pretrained=True, model_name=model)\n",
    "                profit = evaluate_model(agent, data, window_size, debug)\n",
    "                show_eval_result(model, profit, initial_offset)\n",
    "                del agent\n",
    "\n",
    "def Get_data(x):\n",
    "    stock = yf.Ticker(x)\n",
    "    df = stock.history(period=\"5Y\")\n",
    "    print(df.head())\n",
    "    df = df[[ 'Open','Close','High','Low', 'Volume']]\n",
    "    df = df[df.index > '2019-10-10']\n",
    "    df.to_csv('eval.csv',index=False)\n",
    "    \n",
    "if __name__ == \"__main__\":\n",
    "    args = docopt(__doc__)\n",
    "    Get_data(\"SBIN.NS\")\n",
    "    eval_stock = args[\"<eval-stock>\"]\n",
    "    window_size = int(args[\"--window-size\"])\n",
    "    model_name = args[\"--model-name\"]\n",
    "    debug = args[\"--debug\"]\n",
    "\n",
    "    coloredlogs.install(level=\"DEBUG\")\n",
    "    switch_k_backend_device()\n",
    "\n",
    "    try:\n",
    "        main(eval_stock, window_size, model_name, debug)\n",
    "    except KeyboardInterrupt:\n",
    "        print(\"Aborted\")"
   ]
  },
  {
   "cell_type": "code",
   "execution_count": 7,
   "metadata": {},
   "outputs": [
    {
     "ename": "DocoptExit",
     "evalue": "Usage:\n  eval.py <eval-stock> [--window-size=<window-size>] [--model-name=<model-name>] [--debug]\nOptions:\n  --window-size=<window-size>   Size of the n-day window stock data representation used as the feature vector. [default: 10]\n  --model-name=<model-name>     Name of the pretrained model to use (will eval all models in `models/` if unspecified).\n  --debug                       Specifies whether to use verbose logs during eval operation.",
     "output_type": "error",
     "traceback": [
      "An exception has occurred, use %tb to see the full traceback.\n",
      "\u001b[0;31mDocoptExit\u001b[0m\u001b[0;31m:\u001b[0m Usage:\n  eval.py <eval-stock> [--window-size=<window-size>] [--model-name=<model-name>] [--debug]\nOptions:\n  --window-size=<window-size>   Size of the n-day window stock data representation used as the feature vector. [default: 10]\n  --model-name=<model-name>     Name of the pretrained model to use (will eval all models in `models/` if unspecified).\n  --debug                       Specifies whether to use verbose logs during eval operation.\n"
     ]
    },
    {
     "name": "stderr",
     "output_type": "stream",
     "text": [
      "/Users/aishwaryapradeep/anaconda3/lib/python3.6/site-packages/IPython/core/interactiveshell.py:2918: UserWarning: To exit: use 'exit', 'quit', or Ctrl-D.\n",
      "  warn(\"To exit: use 'exit', 'quit', or Ctrl-D.\", stacklevel=1)\n"
     ]
    }
   ],
   "source": [
    "def Get_data(x):\n",
    "    stock = yf.Ticker(x)\n",
    "    df = stock.history(period=\"5Y\")\n",
    "    print(df.head())\n",
    "    df = df[[ 'Open','Close','High','Low', 'Volume']]\n",
    "    df = df[df.index > '2019-10-10']\n",
    "    df.to_csv('eval.csv',index=False)\n",
    "    \n",
    "if __name__ == \"__main__\":\n",
    "    args = docopt(__doc__)\n",
    "    Get_data(\"SBIN.NS\")\n",
    "    eval_stock = args[\"<eval-stock>\"]\n",
    "    window_size = int(args[\"--window-size\"])\n",
    "    model_name = args[\"--model-name\"]\n",
    "    debug = args[\"--debug\"]\n",
    "\n",
    "    coloredlogs.install(level=\"DEBUG\")\n",
    "    switch_k_backend_device()\n",
    "\n",
    "    try:\n",
    "        main(eval_stock, window_size, model_name, debug)\n",
    "    except KeyboardInterrupt:\n",
    "        print(\"Aborted\")"
   ]
  },
  {
   "cell_type": "code",
   "execution_count": null,
   "metadata": {},
   "outputs": [],
   "source": [
    "test_data  = data\n",
    "test_result, history = evaluate_model(agent, test_data, window_size, debug)\n",
    "show_eval_result(model_name, test_result, initial_offset)\n",
    "df = test_data\n",
    "def visualize(test_data, history, title=\"trading session\"):\n",
    "    position = [history[0][0]] + [x[0] for x in history]\n",
    "    actions = ['HOLD'] + [x[1] for x in history]\n",
    "    df['position'] = position\n",
    "    df['action'] = actions\n",
    "    scale = alt.Scale(domain=(min(min(df['actual']), min(df['position'])) - 50, max(max(df['actual']), max(df['position'])) + 50), clamp=True)\n",
    "    actual = alt.Chart(df).mark_line(\n",
    "        color='green',\n",
    "        opacity=0.5\n",
    "    ).encode(\n",
    "        x='date:T',\n",
    "        y=alt.Y('position', axis=alt.Axis(format='$.2f', title='Price'), scale=scale)\n",
    "    ).interactive(\n",
    "        bind_y=False\n",
    "    )\n",
    "    points = alt.Chart(df).transform_filter(\n",
    "        alt.datum.action != 'HOLD'\n",
    "    ).mark_point(\n",
    "        filled=True\n",
    "    ).encode(\n",
    "        x=alt.X('date:T', axis=alt.Axis(title='Date')),\n",
    "        y=alt.Y('position', axis=alt.Axis(format='$.2f', title='Price'), scale=scale),\n",
    "        color='action'\n",
    "    ).interactive(bind_y=False)\n",
    "\n",
    "    chart = alt.layer(actual, points, title=title).properties(height=300, width=1000)\n",
    "    return chart\n",
    "\n",
    "\n",
    "chart = visualize(df, history, title=test_stock)\n",
    "chart"
   ]
  }
 ],
 "metadata": {
  "kernelspec": {
   "display_name": "Python 3",
   "language": "python",
   "name": "python3"
  },
  "language_info": {
   "codemirror_mode": {
    "name": "ipython",
    "version": 3
   },
   "file_extension": ".py",
   "mimetype": "text/x-python",
   "name": "python",
   "nbconvert_exporter": "python",
   "pygments_lexer": "ipython3",
   "version": "3.6.4"
  }
 },
 "nbformat": 4,
 "nbformat_minor": 2
}
